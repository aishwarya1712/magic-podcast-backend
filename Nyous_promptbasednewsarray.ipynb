{
 "cells": [
  {
   "cell_type": "code",
   "execution_count": 4,
   "id": "d6019aee",
   "metadata": {},
   "outputs": [],
   "source": [
    "import faiss\n",
    "import torch\n",
    "from transformers import AutoTokenizer, AutoModel\n",
    "import numpy as np"
   ]
  },
  {
   "cell_type": "code",
   "execution_count": 2,
   "id": "3a46181e",
   "metadata": {},
   "outputs": [],
   "source": [
    "loaded_faiss_index = faiss.read_index(\"my_faiss_index\")\n",
    "query_text = \"what's happening with trump\""
   ]
  },
  {
   "cell_type": "code",
   "execution_count": 5,
   "id": "50bfc95c",
   "metadata": {},
   "outputs": [
    {
     "name": "stderr",
     "output_type": "stream",
     "text": [
      "Some weights of the model checkpoint at google/bert_uncased_L-2_H-128_A-2 were not used when initializing BertModel: ['cls.predictions.bias', 'cls.seq_relationship.weight', 'cls.seq_relationship.bias', 'cls.predictions.transform.dense.weight', 'cls.predictions.transform.LayerNorm.weight', 'cls.predictions.decoder.bias', 'cls.predictions.transform.dense.bias', 'cls.predictions.transform.LayerNorm.bias', 'cls.predictions.decoder.weight']\n",
      "- This IS expected if you are initializing BertModel from the checkpoint of a model trained on another task or with another architecture (e.g. initializing a BertForSequenceClassification model from a BertForPreTraining model).\n",
      "- This IS NOT expected if you are initializing BertModel from the checkpoint of a model that you expect to be exactly identical (initializing a BertForSequenceClassification model from a BertForSequenceClassification model).\n"
     ]
    }
   ],
   "source": [
    "def encode_texts(texts, model, tokenizer):\n",
    "    # Tokenize and encode the texts using the provided model and tokenizer\n",
    "    encoded_texts = tokenizer(texts, padding=True, truncation=True, return_tensors='pt', max_length=512)\n",
    "    \n",
    "    # Forward pass to get embeddings\n",
    "    with torch.no_grad():\n",
    "        model_output = model(**encoded_texts)\n",
    "    \n",
    "    # Return the embeddings\n",
    "    return model_output.last_hidden_state.mean(dim=1).numpy()\n",
    "\n",
    "def create_faiss_index(text_vectors):\n",
    "    # Convert text vectors to numpy array\n",
    "    text_vectors_np = np.array(text_vectors).astype('float32')\n",
    "\n",
    "    # Instantiate an index\n",
    "    index = faiss.IndexFlatL2(text_vectors_np.shape[1])\n",
    "\n",
    "    # Train the index\n",
    "    index.add(text_vectors_np)\n",
    "\n",
    "    return index\n",
    "\n",
    "# Example usage:\n",
    "# Replace 'distilbert-base-nli-stsb-mean-tokens' with the model of your choice\n",
    "model_name = 'google/bert_uncased_L-2_H-128_A-2'\n",
    "tokenizer = AutoTokenizer.from_pretrained(model_name)\n",
    "model = AutoModel.from_pretrained(model_name)"
   ]
  },
  {
   "cell_type": "code",
   "execution_count": 6,
   "id": "b7616063",
   "metadata": {},
   "outputs": [
    {
     "name": "stdout",
     "output_type": "stream",
     "text": [
      "Nearest neighbors:\n",
      "Rank 1: Index 0, Distance: 52.65081787109375\n",
      "Rank 2: Index 2, Distance: 54.03995132446289\n",
      "Rank 3: Index 1, Distance: 56.208438873291016\n"
     ]
    }
   ],
   "source": [
    "# Replace 'your_query_text' with the actual query text\n",
    "query_text = \"what's happening with trump\"\n",
    "\n",
    "# Encode the query text using the same model and tokenizer\n",
    "query_vector = encode_texts([query_text], model, tokenizer)\n",
    "\n",
    "# Perform a similarity search\n",
    "k = 3  # Number of nearest neighbors to retrieve\n",
    "distances, indices = loaded_faiss_index.search(query_vector, k)\n",
    "\n",
    "# Print the results\n",
    "print(\"Nearest neighbors:\")\n",
    "for i, index in enumerate(indices[0]):\n",
    "    print(f\"Rank {i+1}: Index {index}, Distance: {distances[0][i]}\")"
   ]
  },
  {
   "cell_type": "code",
   "execution_count": 7,
   "id": "955ecd78",
   "metadata": {},
   "outputs": [
    {
     "ename": "NameError",
     "evalue": "name 'your_texts' is not defined",
     "output_type": "error",
     "traceback": [
      "\u001b[0;31m---------------------------------------------------------------------------\u001b[0m",
      "\u001b[0;31mNameError\u001b[0m                                 Traceback (most recent call last)",
      "Cell \u001b[0;32mIn[7], line 3\u001b[0m\n\u001b[1;32m      1\u001b[0m final_news_array \u001b[38;5;241m=\u001b[39m []\n\u001b[1;32m      2\u001b[0m \u001b[38;5;28;01mfor\u001b[39;00m i \u001b[38;5;129;01min\u001b[39;00m \u001b[38;5;28mrange\u001b[39m(k):\n\u001b[0;32m----> 3\u001b[0m     final_news_array\u001b[38;5;241m.\u001b[39mappend(your_texts[indices[\u001b[38;5;241m0\u001b[39m][i]])\n",
      "\u001b[0;31mNameError\u001b[0m: name 'your_texts' is not defined"
     ]
    }
   ],
   "source": [
    "final_news_array = []\n",
    "for i in range(k):\n",
    "    final_news_array.append(your_texts[indices[0][i]])"
   ]
  },
  {
   "cell_type": "code",
   "execution_count": null,
   "id": "9d855233",
   "metadata": {},
   "outputs": [],
   "source": [
    "np.save(\"my_array.npy\", final_news_array)"
   ]
  }
 ],
 "metadata": {
  "kernelspec": {
   "display_name": "Python 3 (ipykernel)",
   "language": "python",
   "name": "python3"
  },
  "language_info": {
   "codemirror_mode": {
    "name": "ipython",
    "version": 3
   },
   "file_extension": ".py",
   "mimetype": "text/x-python",
   "name": "python",
   "nbconvert_exporter": "python",
   "pygments_lexer": "ipython3",
   "version": "3.11.4"
  }
 },
 "nbformat": 4,
 "nbformat_minor": 5
}
