{
 "cells": [
  {
   "cell_type": "code",
   "execution_count": 1,
   "id": "c55ec923",
   "metadata": {},
   "outputs": [
    {
     "name": "stdout",
     "output_type": "stream",
     "text": [
      "Collecting langchain\n",
      "  Obtaining dependency information for langchain from https://files.pythonhosted.org/packages/23/9f/a78357793c96ae5b53b5a31a891ed2fe3b02dc1a11a705dd14da67932c42/langchain-0.1.4-py3-none-any.whl.metadata\n",
      "  Downloading langchain-0.1.4-py3-none-any.whl.metadata (13 kB)\n",
      "Requirement already satisfied: PyYAML>=5.3 in /Users/shubhamgupta/anaconda3/lib/python3.11/site-packages (from langchain) (6.0)\n",
      "Requirement already satisfied: SQLAlchemy<3,>=1.4 in /Users/shubhamgupta/anaconda3/lib/python3.11/site-packages (from langchain) (1.4.39)\n",
      "Requirement already satisfied: aiohttp<4.0.0,>=3.8.3 in /Users/shubhamgupta/anaconda3/lib/python3.11/site-packages (from langchain) (3.8.3)\n",
      "Collecting dataclasses-json<0.7,>=0.5.7 (from langchain)\n",
      "  Obtaining dependency information for dataclasses-json<0.7,>=0.5.7 from https://files.pythonhosted.org/packages/ae/53/8c006de775834cd4ea64a445402dc195caeebb77dc76b7defb9b3887cb0d/dataclasses_json-0.6.3-py3-none-any.whl.metadata\n",
      "  Downloading dataclasses_json-0.6.3-py3-none-any.whl.metadata (25 kB)\n",
      "Collecting jsonpatch<2.0,>=1.33 (from langchain)\n",
      "  Obtaining dependency information for jsonpatch<2.0,>=1.33 from https://files.pythonhosted.org/packages/73/07/02e16ed01e04a374e644b575638ec7987ae846d25ad97bcc9945a3ee4b0e/jsonpatch-1.33-py2.py3-none-any.whl.metadata\n",
      "  Downloading jsonpatch-1.33-py2.py3-none-any.whl.metadata (3.0 kB)\n",
      "Collecting langchain-community<0.1,>=0.0.14 (from langchain)\n",
      "  Obtaining dependency information for langchain-community<0.1,>=0.0.14 from https://files.pythonhosted.org/packages/57/00/a798f8124db57eb9e20fe31dc7561e15e9c4607281cddaa4db49f93d7111/langchain_community-0.0.16-py3-none-any.whl.metadata\n",
      "  Downloading langchain_community-0.0.16-py3-none-any.whl.metadata (7.8 kB)\n",
      "Collecting langchain-core<0.2,>=0.1.16 (from langchain)\n",
      "  Obtaining dependency information for langchain-core<0.2,>=0.1.16 from https://files.pythonhosted.org/packages/2f/6f/ecfff9820d55888e8cfc49eb4bf543a5d2eec047148f7a85a3022d956275/langchain_core-0.1.16-py3-none-any.whl.metadata\n",
      "  Downloading langchain_core-0.1.16-py3-none-any.whl.metadata (6.0 kB)\n",
      "Collecting langsmith<0.1,>=0.0.83 (from langchain)\n",
      "  Obtaining dependency information for langsmith<0.1,>=0.0.83 from https://files.pythonhosted.org/packages/a1/3f/0808382e9d0b504e727dbaf86f1fcbe59472cac17a205644a5f78b11c36b/langsmith-0.0.83-py3-none-any.whl.metadata\n",
      "  Downloading langsmith-0.0.83-py3-none-any.whl.metadata (10 kB)\n",
      "Requirement already satisfied: numpy<2,>=1 in /Users/shubhamgupta/anaconda3/lib/python3.11/site-packages (from langchain) (1.24.3)\n",
      "Requirement already satisfied: pydantic<3,>=1 in /Users/shubhamgupta/anaconda3/lib/python3.11/site-packages (from langchain) (1.10.13)\n",
      "Requirement already satisfied: requests<3,>=2 in /Users/shubhamgupta/anaconda3/lib/python3.11/site-packages (from langchain) (2.31.0)\n",
      "Requirement already satisfied: tenacity<9.0.0,>=8.1.0 in /Users/shubhamgupta/anaconda3/lib/python3.11/site-packages (from langchain) (8.2.2)\n",
      "Requirement already satisfied: attrs>=17.3.0 in /Users/shubhamgupta/anaconda3/lib/python3.11/site-packages (from aiohttp<4.0.0,>=3.8.3->langchain) (22.1.0)\n",
      "Requirement already satisfied: charset-normalizer<3.0,>=2.0 in /Users/shubhamgupta/anaconda3/lib/python3.11/site-packages (from aiohttp<4.0.0,>=3.8.3->langchain) (2.0.4)\n",
      "Requirement already satisfied: multidict<7.0,>=4.5 in /Users/shubhamgupta/anaconda3/lib/python3.11/site-packages (from aiohttp<4.0.0,>=3.8.3->langchain) (6.0.2)\n",
      "Requirement already satisfied: async-timeout<5.0,>=4.0.0a3 in /Users/shubhamgupta/anaconda3/lib/python3.11/site-packages (from aiohttp<4.0.0,>=3.8.3->langchain) (4.0.2)\n",
      "Requirement already satisfied: yarl<2.0,>=1.0 in /Users/shubhamgupta/anaconda3/lib/python3.11/site-packages (from aiohttp<4.0.0,>=3.8.3->langchain) (1.8.1)\n",
      "Requirement already satisfied: frozenlist>=1.1.1 in /Users/shubhamgupta/anaconda3/lib/python3.11/site-packages (from aiohttp<4.0.0,>=3.8.3->langchain) (1.3.3)\n",
      "Requirement already satisfied: aiosignal>=1.1.2 in /Users/shubhamgupta/anaconda3/lib/python3.11/site-packages (from aiohttp<4.0.0,>=3.8.3->langchain) (1.2.0)\n",
      "Collecting marshmallow<4.0.0,>=3.18.0 (from dataclasses-json<0.7,>=0.5.7->langchain)\n",
      "  Obtaining dependency information for marshmallow<4.0.0,>=3.18.0 from https://files.pythonhosted.org/packages/57/e9/4368d49d3b462da16a3bac976487764a84dd85cef97232c7bd61f5bdedf3/marshmallow-3.20.2-py3-none-any.whl.metadata\n",
      "  Downloading marshmallow-3.20.2-py3-none-any.whl.metadata (7.5 kB)\n",
      "Collecting typing-inspect<1,>=0.4.0 (from dataclasses-json<0.7,>=0.5.7->langchain)\n",
      "  Obtaining dependency information for typing-inspect<1,>=0.4.0 from https://files.pythonhosted.org/packages/65/f3/107a22063bf27bdccf2024833d3445f4eea42b2e598abfbd46f6a63b6cb0/typing_inspect-0.9.0-py3-none-any.whl.metadata\n",
      "  Using cached typing_inspect-0.9.0-py3-none-any.whl.metadata (1.5 kB)\n",
      "Requirement already satisfied: jsonpointer>=1.9 in /Users/shubhamgupta/anaconda3/lib/python3.11/site-packages (from jsonpatch<2.0,>=1.33->langchain) (2.1)\n",
      "Requirement already satisfied: anyio<5,>=3 in /Users/shubhamgupta/anaconda3/lib/python3.11/site-packages (from langchain-core<0.2,>=0.1.16->langchain) (3.5.0)\n",
      "Collecting packaging<24.0,>=23.2 (from langchain-core<0.2,>=0.1.16->langchain)\n",
      "  Obtaining dependency information for packaging<24.0,>=23.2 from https://files.pythonhosted.org/packages/ec/1a/610693ac4ee14fcdf2d9bf3c493370e4f2ef7ae2e19217d7a237ff42367d/packaging-23.2-py3-none-any.whl.metadata\n",
      "  Downloading packaging-23.2-py3-none-any.whl.metadata (3.2 kB)\n",
      "Requirement already satisfied: typing-extensions>=4.2.0 in /Users/shubhamgupta/anaconda3/lib/python3.11/site-packages (from pydantic<3,>=1->langchain) (4.9.0)\n",
      "Requirement already satisfied: idna<4,>=2.5 in /Users/shubhamgupta/anaconda3/lib/python3.11/site-packages (from requests<3,>=2->langchain) (3.4)\n",
      "Requirement already satisfied: urllib3<3,>=1.21.1 in /Users/shubhamgupta/anaconda3/lib/python3.11/site-packages (from requests<3,>=2->langchain) (1.26.16)\n",
      "Requirement already satisfied: certifi>=2017.4.17 in /Users/shubhamgupta/anaconda3/lib/python3.11/site-packages (from requests<3,>=2->langchain) (2023.7.22)\n",
      "Requirement already satisfied: sniffio>=1.1 in /Users/shubhamgupta/anaconda3/lib/python3.11/site-packages (from anyio<5,>=3->langchain-core<0.2,>=0.1.16->langchain) (1.2.0)\n",
      "Requirement already satisfied: mypy-extensions>=0.3.0 in /Users/shubhamgupta/anaconda3/lib/python3.11/site-packages (from typing-inspect<1,>=0.4.0->dataclasses-json<0.7,>=0.5.7->langchain) (0.4.3)\n",
      "Downloading langchain-0.1.4-py3-none-any.whl (803 kB)\n",
      "\u001b[2K   \u001b[90m━━━━━━━━━━━━━━━━━━━━━━━━━━━━━━━━━━━━━━━━\u001b[0m \u001b[32m803.6/803.6 kB\u001b[0m \u001b[31m5.9 MB/s\u001b[0m eta \u001b[36m0:00:00\u001b[0ma \u001b[36m0:00:01\u001b[0m\n",
      "\u001b[?25hDownloading dataclasses_json-0.6.3-py3-none-any.whl (28 kB)\n",
      "Downloading jsonpatch-1.33-py2.py3-none-any.whl (12 kB)\n",
      "Downloading langchain_community-0.0.16-py3-none-any.whl (1.6 MB)\n",
      "\u001b[2K   \u001b[90m━━━━━━━━━━━━━━━━━━━━━━━━━━━━━━━━━━━━━━━━\u001b[0m \u001b[32m1.6/1.6 MB\u001b[0m \u001b[31m12.2 MB/s\u001b[0m eta \u001b[36m0:00:00\u001b[0ma \u001b[36m0:00:01\u001b[0m\n",
      "\u001b[?25hDownloading langchain_core-0.1.16-py3-none-any.whl (230 kB)\n",
      "\u001b[2K   \u001b[90m━━━━━━━━━━━━━━━━━━━━━━━━━━━━━━━━━━━━━━━━\u001b[0m \u001b[32m230.3/230.3 kB\u001b[0m \u001b[31m10.6 MB/s\u001b[0m eta \u001b[36m0:00:00\u001b[0m\n",
      "\u001b[?25hDownloading langsmith-0.0.83-py3-none-any.whl (49 kB)\n",
      "\u001b[2K   \u001b[90m━━━━━━━━━━━━━━━━━━━━━━━━━━━━━━━━━━━━━━━━\u001b[0m \u001b[32m49.3/49.3 kB\u001b[0m \u001b[31m4.3 MB/s\u001b[0m eta \u001b[36m0:00:00\u001b[0m\n",
      "\u001b[?25hDownloading marshmallow-3.20.2-py3-none-any.whl (49 kB)\n",
      "\u001b[2K   \u001b[90m━━━━━━━━━━━━━━━━━━━━━━━━━━━━━━━━━━━━━━━━\u001b[0m \u001b[32m49.4/49.4 kB\u001b[0m \u001b[31m3.2 MB/s\u001b[0m eta \u001b[36m0:00:00\u001b[0m\n",
      "\u001b[?25hDownloading packaging-23.2-py3-none-any.whl (53 kB)\n",
      "\u001b[2K   \u001b[90m━━━━━━━━━━━━━━━━━━━━━━━━━━━━━━━━━━━━━━━━\u001b[0m \u001b[32m53.0/53.0 kB\u001b[0m \u001b[31m4.1 MB/s\u001b[0m eta \u001b[36m0:00:00\u001b[0m\n",
      "\u001b[?25hUsing cached typing_inspect-0.9.0-py3-none-any.whl (8.8 kB)\n",
      "Installing collected packages: typing-inspect, packaging, jsonpatch, marshmallow, langsmith, langchain-core, dataclasses-json, langchain-community, langchain\n",
      "  Attempting uninstall: packaging\n",
      "    Found existing installation: packaging 23.0\n",
      "    Uninstalling packaging-23.0:\n",
      "      Successfully uninstalled packaging-23.0\n",
      "  Attempting uninstall: jsonpatch\n",
      "    Found existing installation: jsonpatch 1.32\n",
      "    Uninstalling jsonpatch-1.32:\n"
     ]
    },
    {
     "name": "stdout",
     "output_type": "stream",
     "text": [
      "      Successfully uninstalled jsonpatch-1.32\n",
      "\u001b[31mERROR: pip's dependency resolver does not currently take into account all the packages that are installed. This behaviour is the source of the following dependency conflicts.\n",
      "tables 3.8.0 requires blosc2~=2.0.0, which is not installed.\n",
      "tables 3.8.0 requires cython>=0.29.21, which is not installed.\n",
      "spyder 5.4.3 requires pyqt5<5.16, which is not installed.\n",
      "spyder 5.4.3 requires pyqtwebengine<5.16, which is not installed.\n",
      "python-lsp-black 1.2.1 requires black>=22.3.0, but you have black 0.0 which is incompatible.\u001b[0m\u001b[31m\n",
      "\u001b[0mSuccessfully installed dataclasses-json-0.6.3 jsonpatch-1.33 langchain-0.1.4 langchain-community-0.0.16 langchain-core-0.1.16 langsmith-0.0.83 marshmallow-3.20.2 packaging-23.2 typing-inspect-0.9.0\n",
      "Note: you may need to restart the kernel to use updated packages.\n"
     ]
    }
   ],
   "source": [
    "pip install langchain"
   ]
  },
  {
   "cell_type": "code",
   "execution_count": 12,
   "id": "557ccd39",
   "metadata": {},
   "outputs": [
    {
     "data": {
      "application/vnd.jupyter.widget-view+json": {
       "model_id": "289c025634fa41d0881dd1f99fc7e12c",
       "version_major": 2,
       "version_minor": 0
      },
      "text/plain": [
       "Downloading config.json:   0%|          | 0.00/382 [00:00<?, ?B/s]"
      ]
     },
     "metadata": {},
     "output_type": "display_data"
    },
    {
     "data": {
      "application/vnd.jupyter.widget-view+json": {
       "model_id": "33b41c89624841f09637dce38ff4379e",
       "version_major": 2,
       "version_minor": 0
      },
      "text/plain": [
       "Downloading vocab.txt:   0%|          | 0.00/232k [00:00<?, ?B/s]"
      ]
     },
     "metadata": {},
     "output_type": "display_data"
    },
    {
     "data": {
      "application/vnd.jupyter.widget-view+json": {
       "model_id": "a3fb715fdcb04e47ac18b0b21cad49fe",
       "version_major": 2,
       "version_minor": 0
      },
      "text/plain": [
       "Downloading pytorch_model.bin:   0%|          | 0.00/17.7M [00:00<?, ?B/s]"
      ]
     },
     "metadata": {},
     "output_type": "display_data"
    },
    {
     "name": "stderr",
     "output_type": "stream",
     "text": [
      "Some weights of the model checkpoint at google/bert_uncased_L-2_H-128_A-2 were not used when initializing BertModel: ['cls.predictions.transform.LayerNorm.bias', 'cls.predictions.transform.dense.weight', 'cls.predictions.decoder.bias', 'cls.predictions.transform.LayerNorm.weight', 'cls.seq_relationship.bias', 'cls.predictions.decoder.weight', 'cls.predictions.transform.dense.bias', 'cls.seq_relationship.weight', 'cls.predictions.bias']\n",
      "- This IS expected if you are initializing BertModel from the checkpoint of a model trained on another task or with another architecture (e.g. initializing a BertForSequenceClassification model from a BertForPreTraining model).\n",
      "- This IS NOT expected if you are initializing BertModel from the checkpoint of a model that you expect to be exactly identical (initializing a BertForSequenceClassification model from a BertForSequenceClassification model).\n"
     ]
    }
   ],
   "source": [
    "import torch\n",
    "from transformers import AutoTokenizer, AutoModel\n",
    "import faiss\n",
    "import numpy as np\n",
    "\n",
    "def encode_texts(texts, model, tokenizer):\n",
    "    # Tokenize and encode the texts using the provided model and tokenizer\n",
    "    encoded_texts = tokenizer(texts, padding=True, truncation=True, return_tensors='pt', max_length=512)\n",
    "    \n",
    "    # Forward pass to get embeddings\n",
    "    with torch.no_grad():\n",
    "        model_output = model(**encoded_texts)\n",
    "    \n",
    "    # Return the embeddings\n",
    "    return model_output.last_hidden_state.mean(dim=1).numpy()\n",
    "\n",
    "def create_faiss_index(text_vectors):\n",
    "    # Convert text vectors to numpy array\n",
    "    text_vectors_np = np.array(text_vectors).astype('float32')\n",
    "\n",
    "    # Instantiate an index\n",
    "    index = faiss.IndexFlatL2(text_vectors_np.shape[1])\n",
    "\n",
    "    # Train the index\n",
    "    index.add(text_vectors_np)\n",
    "\n",
    "    return index\n",
    "\n",
    "# Example usage:\n",
    "# Replace 'distilbert-base-nli-stsb-mean-tokens' with the model of your choice\n",
    "model_name = 'google/bert_uncased_L-2_H-128_A-2'\n",
    "tokenizer = AutoTokenizer.from_pretrained(model_name)\n",
    "model = AutoModel.from_pretrained(model_name)"
   ]
  },
  {
   "cell_type": "code",
   "execution_count": 30,
   "id": "9c1043eb",
   "metadata": {},
   "outputs": [],
   "source": [
    "# Replace `your_texts` with the actual list of texts you want to index\n",
    "your_texts = [\n",
    "    \"\"\"WASHINGTON (AP) — The Supreme Court should declare that Donald Trump is ineligible to be president again because he spearheaded the violent attack on the U.S. Capitol in an effort to overturn his 2020 election loss, lawyers leading the fight to keep him off the ballot told the justices on Friday.\n",
    "\n",
    "In a filing filled with vivid descriptions of the Jan. 6, 2021, violence at the Capitol, the lawyers urged the justices not to flinch from doing their constitutional duty and to uphold a first-of-its-kind Colorado court decision to kick the 2024 Republican presidential front-runner off the state’s primary ballot.\n",
    "\n",
    "“Nobody, not even a former President, is above the law,” the lawyers wrote.\n",
    "\n",
    "The court will hear arguments in less than two weeks in a historic case that has the potential to disrupt the 2024 presidential election.\n",
    "\n",
    "OTHER NEWS\n",
    "Oregon State guard Talia von Oelhoffen (22) reacts during the first half of the teams' NCAA college basketball game against Colorado on Friday, Jan. 26, 2024, in Corvallis, Ore. (AP Photo/Amanda Loman)\n",
    "Hunter and von Oelhoffen help No. 25 Oregon State defeat No. 3 Colorado 68-62\n",
    "FILE - Rep. Lauren Boebert, R-Colo., a member of the House Freedom Caucus, speaks during a news conference, July 14, 2023, on Capitol Hill in Washington. Boebert's ex-husband, Jayson Boebert has been charged, Wednesday, Jan. 24, 2024, with assault and other charges in connection with two domestic altercations in early January. (AP Photo/Patrick Semansky, File)\n",
    "Lauren Boebert’s ex-husband charged after 2 domestic incidents\n",
    "Colorado guard J'Vonne Hadley (1) shoots from between Washington guard Koren Johnson (0) and Colorado center Eddie Lampkin Jr., second from right, during the second half of an NCAA college basketball game Wednesday, Jan. 24, 2024, in Seattle. Colorado won 98-81. (AP Photo/Lindsey Wasson)\n",
    "Hadley posts career-high 24 points and Colorado smokes Washington 98-81 for 4th-straight win\n",
    "The case presents the high court with its first look at a provision of the 14th Amendment barring some people who “engaged in insurrection” from holding public office. The amendment was adopted in 1868, following the Civil War.\n",
    "\n",
    "In their plea to the court, the lawyers said, “Trump intentionally organized and incited a violent mob to attack the United States Capitol in a desperate effort to prevent the counting of electoral votes cast against him” after he lost the election to Democrat Joe Biden.\n",
    "\n",
    "They called for a decision that makes clear that what happened on Jan. 6 was an insurrection, for which Trump bears responsibility. The president is covered by the constitutional provision at issue, and Congress doesn’t need to take action before states can apply it, the lawyers wrote.\n",
    "\n",
    "The written filing includes extensive details of Trump’s actions leading up to Jan. 6, including his tweet on Dec. 19, 2020, in which he informed his followers of the planned protest on the day Congress would count the electoral votes and wrote, “Be there, will be wild.”\n",
    "\n",
    "Then in his speech to supporters on Jan. 6, the lawyers wrote, “Trump lit the fuse.” The brief reproduces photographs of the mayhem from that day, including one of U.S. Capitol Police Officer Daniel Hodges pinned in a doorway during the attack.\n",
    "\n",
    "Trump’s lawyers have argued that efforts to keep him off the ballot “threaten to disenfranchise tens of millions of Americans and ... promise to unleash chaos and bedlam” if other states follow Colorado’s lead.\n",
    "\n",
    "The Colorado Supreme Court’s 4-3 ruling should be reversed for any of several reasons, Trump’s lawyers wrote, including that Trump did not engage in insurrection and that the presidency is not covered by the amendment. They also contend that Congress would have to enact legislation before states could invoke the provision to keep candidates off the ballot.\n",
    "\n",
    "The justices are hearing arguments Feb. 8. Trump already has won the first two GOP presidential contests: the Iowa caucuses and the New Hampshire primary. Former U.N. Ambassador Nikki Haley is Trump’s sole remaining significant GOP opponent.\n",
    "\n",
    "Still, both sides have said the court needs to act quickly so that voters know whether Trump is eligible to hold the presidency.\n",
    "\n",
    "The court is dealing with the dispute under a compressed timeframe that could produce a decision before Super Tuesday on March 5, when the largest number of delegates in a day is up for grabs, including in Colorado.\n",
    "\n",
    "A two-sentence provision in Section 3 of the 14th Amendment states that anyone who swore an oath to uphold the Constitution and then “engaged in insurrection” against it is no longer eligible for state or federal office. After Congress passed an amnesty for most of the former confederates the measure targeted in 1872, the provision fell into disuse until dozens of suits were filed to keep Trump off the ballot this year. Only the one in Colorado was successful.\n",
    "\n",
    "Trump is separately appealing to state court a ruling by Maine’s Democratic secretary of state, Shenna Bellows, that he is ineligible to appear on that state’s ballot over his role in the Capitol attack. Both the Colorado Supreme Court and the Maine secretary of state’s rulings are on hold until the appeals play out.\"\"\",\n",
    "    \"\"\"RIFLE, Colo. (AP) — Republican U.S. Rep. Lauren Boebert ‘s ex-husband, Jayson Boebert, has been charged with assault and other counts in connection with two domestic altercations, including an argument with the congresswoman in a restaurant that spiraled out of control, and a fight with the former couple’s son, authorities said.\n",
    "\n",
    "The altercations have drawn further attention to Lauren Boebert, a far-right politician with a combative political style.\n",
    "\n",
    "After the argument at the restaurant on Jan. 6, Jayson Boebert was uncooperative with police and had to be forcibly removed from the business, according to an arrest affidavit. That led to the charges of disorderly conduct, third-degree criminal trespass and obstructing a peace officer, according to court documents.\n",
    "\n",
    "The second incident, on Jan. 9, involved a physical fight with the couple’s 18-year-old son during which Jayson Boebert grabbed a rifle after the teen called authorities, according to a separate arrest affidavit. That led to charges of harassment, prohibited use of a weapon and third-degree assault, court documents show. Lauren Boebert was not present during the fight.\n",
    "\n",
    "Jayson Boebert did not respond to calls and texts seeking comment Friday. He is scheduled for a court hearing next Monday.\n",
    "\n",
    "Congresswoman Boebert is facing her own difficulties, including allegations during the first Republican primary debate Thursday night that she is “carpetbagging” by switching to Colorado’s 4th Congressional District from the 3rd District, where she’s lived and raised her family in the town of Silt.\n",
    "\n",
    "Boebert argues that her candidacy in the old district threatened Republican control of the seat; she defeated the Democratic opponent, Adam Frisch, by only 546 votes in 2022. If Boebert had stayed in the 3rd District, she was expected to have a rematch in November with Frisch, who had already far out-fundraised her. \"\"\",\n",
    "    \"\"\"WASHINGTON (AP) — The Supreme Court should declare that Donald Trump is ineligible to be president again because he spearheaded the violent attack on the U.S. Capitol in an effort to overturn his 2020 election loss, lawyers leading the fight to keep him off the ballot told the justices on Friday.\n",
    "\n",
    "In a filing filled with vivid descriptions of the Jan. 6, 2021, violence at the Capitol, the lawyers urged the justices not to flinch from doing their constitutional duty and to uphold a first-of-its-kind Colorado court decision to kick the 2024 Republican presidential front-runner off the state’s primary ballot.\n",
    "\n",
    "“Nobody, not even a former President, is above the law,” the lawyers wrote.\n",
    "\n",
    "The court will hear arguments in less than two weeks in a historic case that has the potential to disrupt the 2024 presidential election.\n",
    "\n",
    "OTHER NEWS\n",
    "Oregon State guard Talia von Oelhoffen (22) reacts during the first half of the teams' NCAA college basketball game against Colorado on Friday, Jan. 26, 2024, in Corvallis, Ore. (AP Photo/Amanda Loman)\n",
    "Hunter and von Oelhoffen help No. 25 Oregon State defeat No. 3 Colorado 68-62\n",
    "FILE - Rep. Lauren Boebert, R-Colo., a member of the House Freedom Caucus, speaks during a news conference, July 14, 2023, on Capitol Hill in Washington. Boebert's ex-husband, Jayson Boebert has been charged, Wednesday, Jan. 24, 2024, with assault and other charges in connection with two domestic altercations in early January. (AP Photo/Patrick Semansky, File)\n",
    "Lauren Boebert’s ex-husband charged after 2 domestic incidents\n",
    "Colorado guard J'Vonne Hadley (1) shoots from between Washington guard Koren Johnson (0) and Colorado center Eddie Lampkin Jr., second from right, during the second half of an NCAA college basketball game Wednesday, Jan. 24, 2024, in Seattle. Colorado won 98-81. (AP Photo/Lindsey Wasson)\n",
    "Hadley posts career-high 24 points and Colorado smokes Washington 98-81 for 4th-straight win\n",
    "The case presents the high court with its first look at a provision of the 14th Amendment barring some people who “engaged in insurrection” from holding public office. The amendment was adopted in 1868, following the Civil War.\n",
    "\n",
    "In their plea to the court, the lawyers said, “Trump intentionally organized and incited a violent mob to attack the United States Capitol in a desperate effort to prevent the counting of electoral votes cast against him” after he lost the election to Democrat Joe Biden.\n",
    "\n",
    "They called for a decision that makes clear that what happened on Jan. 6 was an insurrection, for which Trump bears responsibility. The president is covered by the constitutional provision at issue, and Congress doesn’t need to take action before states can apply it, the lawyers wrote.\n",
    "\n",
    "The written filing includes extensive details of Trump’s actions leading up to Jan. 6, including his tweet on Dec. 19, 2020, in which he informed his followers of the planned protest on the day Congress would count the electoral votes and wrote, “Be there, will be wild.”\n",
    "\n",
    "Then in his speech to supporters on Jan. 6, the lawyers wrote, “Trump lit the fuse.” The brief reproduces photographs of the mayhem from that day, including one of U.S. Capitol Police Officer Daniel Hodges pinned in a doorway during the attack.\n",
    "\n",
    "Trump’s lawyers have argued that efforts to keep him off the ballot “threaten to disenfranchise tens of millions of Americans and ... promise to unleash chaos and bedlam” if other states follow Colorado’s lead.\n",
    "\n",
    "The Colorado Supreme Court’s 4-3 ruling should be reversed for any of several reasons, Trump’s lawyers wrote, including that Trump did not engage in insurrection and that the presidency is not covered by the amendment. They also contend that Congress would have to enact legislation before states could invoke the provision to keep candidates off the ballot.\n",
    "\n",
    "The justices are hearing arguments Feb. 8. Trump already has won the first two GOP presidential contests: the Iowa caucuses and the New Hampshire primary. Former U.N. Ambassador Nikki Haley is Trump’s sole remaining significant GOP opponent.\n",
    "\n",
    "Still, both sides have said the court needs to act quickly so that voters know whether Trump is eligible to hold the presidency.\n",
    "\n",
    "The court is dealing with the dispute under a compressed timeframe that could produce a decision before Super Tuesday on March 5, when the largest number of delegates in a day is up for grabs, including in Colorado.\n",
    "\n",
    "A two-sentence provision in Section 3 of the 14th Amendment states that anyone who swore an oath to uphold the Constitution and then “engaged in insurrection” against it is no longer eligible for state or federal office. After Congress passed an amnesty for most of the former confederates the measure targeted in 1872, the provision fell into disuse until dozens of suits were filed to keep Trump off the ballot this year. Only the one in Colorado was successful.\n",
    "\n",
    "Trump is separately appealing to state court a ruling by Maine’s Democratic secretary of state, Shenna Bellows, that he is ineligible to appear on that state’s ballot over his role in the Capitol attack. Both the Colorado Supreme Court and the Maine secretary of state’s rulings are on hold until the appeals play out.\"\"\",\"\"\"COLUMBIA, S.C. (AP) — The Republican National Committee has pulled a resolution to consider declaring Donald Trump the party’s “presumptive 2024 nominee” before he formally clinches the requisite number of delegates, a person familiar with the decision said Thursday.\n",
    "\n",
    "News of the withdrawal came shortly after Trump posted on his Truth Social site that, while he “greatly” appreciated the notion, he felt, “for the sake of PARTY UNITY, that they should NOT go forward with this plan, but that I should do it the ‘Old Fashioned’ way, and finish the process off AT THE BALLOT BOX.”\n",
    "\n",
    "The measure, according to a draft obtained Thursday by The Associated Press, had said it “declares President Trump as our presumptive 2024 nominee for the office of President of the United States and from this moment forward moves into full general election mode welcoming supporters of all candidates as valued members of Team Trump 2024.”\n",
    "\n",
    "The withdrawal was confirmed by a person familiar with the decision who was not authorized to publicly discuss the proposal and spoke on condition of anonymity Thursday night.\n",
    "\n",
    "OTHER NEWS\n",
    "FILE - Republican presidential candidate former President Donald Trump speaks at a primary election night party in Nashua, N.H., Jan. 23, 2024. A jury is trying to determine if the $83 million defamation judgement will be enough to deter Trump from continuing his attacks on E. Jean Carroll. The jury hit Trump with the exorbitant defamation award Friday, Jan. 26, finding the former president maliciously damaged Carroll's reputation after she accused him of sexually assaulting her in a Manhattan department store. (AP Photo/Matt Rourke, File)\n",
    "Donald Trump is on the hook for $88.3 million in defamation damages. What happens next?\n",
    "The U.S. Supreme Court is photographed on Wednesday, Jan. 17, 2024, in Washington. (AP Photo/Mariam Zuhaib)\n",
    "Supreme Court is urged to rule Trump is ineligible to be president again because of the Jan. 6 riot\n",
    "FILE - Fulton County District Attorney Fani Willis speaks during an Associated Press interview on Tuesday, Dec. 12, 2023, in Atlanta. The Georgia state Senate voted on Friday, Jan. 26, 2024, to create a special committee to investigate Willis, with Republicans claiming she has personally benefitted from improperly conveying public money to special prosecutor Nathan Wade. (AP Photo/Brynn Anderson, File)\n",
    "Georgia Senate passes a panel with subpoena power to investigate District Attorney Fani Willis\n",
    "If approved, the measure would have further solidified Trump’s control of the party and its operation at a time when former United Nations Ambassador Nikki Haley is still competing against Trump for the GOP nomination.\n",
    "\n",
    "RNC Chair Ronna McDaniel had earlier signaled her approval for the resolution. On Tuesday, after Haley finished second to Trump in New Hampshire, McDaniel said that while she felt the former ambassador had “run a great campaign,” Republicans “need to unite around our eventual nominee, which is going to be Donald Trump.”\n",
    "\n",
    "The resolution had been expected to be discussed at the RNC’s winter meeting in Las Vegas next week, even though only two states have voted and the former president had nowhere near the requisite number of delegates to secure the nomination.\n",
    "\n",
    "Haley’s camp said Thursday that it wasn’t up to the RNC to decide who the GOP nominee would be.\n",
    "\n",
    "“Who cares what the RNC says? We’ll let millions of Republican voters across the country decide who should be our party’s nominee, not a bunch of Washington insiders,” said campaign spokesperson Olivia Perez-Cubas.\n",
    "\n",
    "The AP has a policy to not refer to any candidate as the “presumptive nominee” until he or she has captured the number of delegates needed to win a majority vote at the national party conventions this summer. The earliest that could happen is March.\n",
    "\n",
    "But there were no party rules prohibiting the RNC from making such a move. If it had been adopted, it could have given the Republican Party a jump-start on planning a general election matchup with Democratic President Joe Biden, who has begun framing his reelection campaign as a 2020 rematch against Trump.\n",
    "\n",
    "Republican presidential candidate former UN Ambassador Nikki Haley speaks during a campaign event at The North Charleston Coliseum, Wednesday, Jan. 24, 2024, in North Charleston, S.C. (AP Photo/Sean Rayford)\n",
    "Republican presidential candidate former UN Ambassador Nikki Haley speaks during a campaign event at The North Charleston Coliseum, Wednesday, Jan. 24, 2024, in North Charleston, S.C. (AP Photo/Sean Rayford)\n",
    "\n",
    "There was also precedent for the committee to declare a candidate the presumptive nominee before winning the 1,215 requisite delegates to clinch the nomination. Then-RNC Chair Reince Priebus did so with Trump in May 2016.\n",
    "\n",
    "Despite losing both the Iowa and New Hampshire contests to Trump, Haley has argued that her performance — outlasting all the other Trump rivals — shows the strength of her candidacy.\n",
    "\n",
    "Trump currently has 32 delegates to Haley’s 17. There is one delegate left to be assigned after the New Hampshire contest.\n",
    "\n",
    "During a rally Wednesday night in her home state of South Carolina, Haley — the former governor — noted that her campaign had brought in more than $1 million since her second-place finish in New Hampshire. Trump followed up with a remark that appeared aimed at intimidating her donors.\n",
    "\n",
    "“Anybody that makes a ‘Contribution’ to Birdbrain, from this moment forth, will be permanently barred from the MAGA camp,” Trump wrote, using the nickname he has crafted for Haley and the abbreviation for his “Make America Great Again” slogan. “We don’t want them, and will not accept them, because we Put America First, and ALWAYS WILL!”\n",
    "\n",
    "Haley’s campaign said Thursday that it raised an additional $1.2 million “after Trump’s unhinged pledge to ‘permanently bar’ any individual who contributed to Haley’s campaign.”\n",
    "\n",
    "“Donald Trump’s threats highlight the stark choice in this election: personal vendettas or real conservative leadership,” said Haley spokesperson AnnMarie Graham-Barnes. “Trump’s scheme blew up in his face. The contributions to the Haley campaign are pouring in — proof that people are sick of the drama and are rallying behind Nikki’s vision for a strong and proud America.”\n",
    "\n",
    "Trump’s dismissal of any Haley donors had no effect on T.J. Petrizzo, a former top Capitol Hill staffer and now lobbyist who supports Haley.\n",
    "\n",
    "“That’s something out of a ‘Godfather’ movie. Never betray the family? Come on,” he added. “You’ve got to play this through.”\n",
    "\n",
    "Petrizzo said he understands that some Republicans may be ready to pivot to a head-to-head contest between Trump and Biden, but he notes that there is a lot of time left before a general election.\n",
    "\n",
    "“I’ve heard a lot of elected officials in the Republican Party, including the RNC chair, say, ‘We need to rally around a candidate.’ That this is going to be our candidate. ‘It was chosen by Iowa and New Hampshire, so we must go ahead and rally around Trump,’” Petrizzo said. “Well, there’s 285 days until the election. There’s plenty of time on the clock.”\"\"\"\n",
    "]"
   ]
  },
  {
   "cell_type": "code",
   "execution_count": null,
   "id": "36687cfc",
   "metadata": {},
   "outputs": [],
   "source": [
    "# np.delete(your_texts,2)"
   ]
  },
  {
   "cell_type": "code",
   "execution_count": 49,
   "id": "1681b00f",
   "metadata": {},
   "outputs": [
    {
     "name": "stdout",
     "output_type": "stream",
     "text": [
      "[\"WASHINGTON (AP) — The Supreme Court should declare that Donald Trump is ineligible to be president again because he spearheaded the violent attack on the U.S. Capitol in an effort to overturn his 2020 election loss, lawyers leading the fight to keep him off the ballot told the justices on Friday.\\n\\nIn a filing filled with vivid descriptions of the Jan. 6, 2021, violence at the Capitol, the lawyers urged the justices not to flinch from doing their constitutional duty and to uphold a first-of-its-kind Colorado court decision to kick the 2024 Republican presidential front-runner off the state’s primary ballot.\\n\\n“Nobody, not even a former President, is above the law,” the lawyers wrote.\\n\\nThe court will hear arguments in less than two weeks in a historic case that has the potential to disrupt the 2024 presidential election.\\n\\nOTHER NEWS\\nOregon State guard Talia von Oelhoffen (22) reacts during the first half of the teams' NCAA college basketball game against Colorado on Friday, Jan. 26, 2024, in Corvallis, Ore. (AP Photo/Amanda Loman)\\nHunter and von Oelhoffen help No. 25 Oregon State defeat No. 3 Colorado 68-62\\nFILE - Rep. Lauren Boebert, R-Colo., a member of the House Freedom Caucus, speaks during a news conference, July 14, 2023, on Capitol Hill in Washington. Boebert's ex-husband, Jayson Boebert has been charged, Wednesday, Jan. 24, 2024, with assault and other charges in connection with two domestic altercations in early January. (AP Photo/Patrick Semansky, File)\\nLauren Boebert’s ex-husband charged after 2 domestic incidents\\nColorado guard J'Vonne Hadley (1) shoots from between Washington guard Koren Johnson (0) and Colorado center Eddie Lampkin Jr., second from right, during the second half of an NCAA college basketball game Wednesday, Jan. 24, 2024, in Seattle. Colorado won 98-81. (AP Photo/Lindsey Wasson)\\nHadley posts career-high 24 points and Colorado smokes Washington 98-81 for 4th-straight win\\nThe case presents the high court with its first look at a provision of the 14th Amendment barring some people who “engaged in insurrection” from holding public office. The amendment was adopted in 1868, following the Civil War.\\n\\nIn their plea to the court, the lawyers said, “Trump intentionally organized and incited a violent mob to attack the United States Capitol in a desperate effort to prevent the counting of electoral votes cast against him” after he lost the election to Democrat Joe Biden.\\n\\nThey called for a decision that makes clear that what happened on Jan. 6 was an insurrection, for which Trump bears responsibility. The president is covered by the constitutional provision at issue, and Congress doesn’t need to take action before states can apply it, the lawyers wrote.\\n\\nThe written filing includes extensive details of Trump’s actions leading up to Jan. 6, including his tweet on Dec. 19, 2020, in which he informed his followers of the planned protest on the day Congress would count the electoral votes and wrote, “Be there, will be wild.”\\n\\nThen in his speech to supporters on Jan. 6, the lawyers wrote, “Trump lit the fuse.” The brief reproduces photographs of the mayhem from that day, including one of U.S. Capitol Police Officer Daniel Hodges pinned in a doorway during the attack.\\n\\nTrump’s lawyers have argued that efforts to keep him off the ballot “threaten to disenfranchise tens of millions of Americans and ... promise to unleash chaos and bedlam” if other states follow Colorado’s lead.\\n\\nThe Colorado Supreme Court’s 4-3 ruling should be reversed for any of several reasons, Trump’s lawyers wrote, including that Trump did not engage in insurrection and that the presidency is not covered by the amendment. They also contend that Congress would have to enact legislation before states could invoke the provision to keep candidates off the ballot.\\n\\nThe justices are hearing arguments Feb. 8. Trump already has won the first two GOP presidential contests: the Iowa caucuses and the New Hampshire primary. Former U.N. Ambassador Nikki Haley is Trump’s sole remaining significant GOP opponent.\\n\\nStill, both sides have said the court needs to act quickly so that voters know whether Trump is eligible to hold the presidency.\\n\\nThe court is dealing with the dispute under a compressed timeframe that could produce a decision before Super Tuesday on March 5, when the largest number of delegates in a day is up for grabs, including in Colorado.\\n\\nA two-sentence provision in Section 3 of the 14th Amendment states that anyone who swore an oath to uphold the Constitution and then “engaged in insurrection” against it is no longer eligible for state or federal office. After Congress passed an amnesty for most of the former confederates the measure targeted in 1872, the provision fell into disuse until dozens of suits were filed to keep Trump off the ballot this year. Only the one in Colorado was successful.\\n\\nTrump is separately appealing to state court a ruling by Maine’s Democratic secretary of state, Shenna Bellows, that he is ineligible to appear on that state’s ballot over his role in the Capitol attack. Both the Colorado Supreme Court and the Maine secretary of state’s rulings are on hold until the appeals play out.\", 'RIFLE, Colo. (AP) — Republican U.S. Rep. Lauren Boebert ‘s ex-husband, Jayson Boebert, has been charged with assault and other counts in connection with two domestic altercations, including an argument with the congresswoman in a restaurant that spiraled out of control, and a fight with the former couple’s son, authorities said.\\n\\nThe altercations have drawn further attention to Lauren Boebert, a far-right politician with a combative political style.\\n\\nAfter the argument at the restaurant on Jan. 6, Jayson Boebert was uncooperative with police and had to be forcibly removed from the business, according to an arrest affidavit. That led to the charges of disorderly conduct, third-degree criminal trespass and obstructing a peace officer, according to court documents.\\n\\nThe second incident, on Jan. 9, involved a physical fight with the couple’s 18-year-old son during which Jayson Boebert grabbed a rifle after the teen called authorities, according to a separate arrest affidavit. That led to charges of harassment, prohibited use of a weapon and third-degree assault, court documents show. Lauren Boebert was not present during the fight.\\n\\nJayson Boebert did not respond to calls and texts seeking comment Friday. He is scheduled for a court hearing next Monday.\\n\\nCongresswoman Boebert is facing her own difficulties, including allegations during the first Republican primary debate Thursday night that she is “carpetbagging” by switching to Colorado’s 4th Congressional District from the 3rd District, where she’s lived and raised her family in the town of Silt.\\n\\nBoebert argues that her candidacy in the old district threatened Republican control of the seat; she defeated the Democratic opponent, Adam Frisch, by only 546 votes in 2022. If Boebert had stayed in the 3rd District, she was expected to have a rematch in November with Frisch, who had already far out-fundraised her. ', \"COLUMBIA, S.C. (AP) — The Republican National Committee has pulled a resolution to consider declaring Donald Trump the party’s “presumptive 2024 nominee” before he formally clinches the requisite number of delegates, a person familiar with the decision said Thursday.\\n\\nNews of the withdrawal came shortly after Trump posted on his Truth Social site that, while he “greatly” appreciated the notion, he felt, “for the sake of PARTY UNITY, that they should NOT go forward with this plan, but that I should do it the ‘Old Fashioned’ way, and finish the process off AT THE BALLOT BOX.”\\n\\nThe measure, according to a draft obtained Thursday by The Associated Press, had said it “declares President Trump as our presumptive 2024 nominee for the office of President of the United States and from this moment forward moves into full general election mode welcoming supporters of all candidates as valued members of Team Trump 2024.”\\n\\nThe withdrawal was confirmed by a person familiar with the decision who was not authorized to publicly discuss the proposal and spoke on condition of anonymity Thursday night.\\n\\nOTHER NEWS\\nFILE - Republican presidential candidate former President Donald Trump speaks at a primary election night party in Nashua, N.H., Jan. 23, 2024. A jury is trying to determine if the $83 million defamation judgement will be enough to deter Trump from continuing his attacks on E. Jean Carroll. The jury hit Trump with the exorbitant defamation award Friday, Jan. 26, finding the former president maliciously damaged Carroll's reputation after she accused him of sexually assaulting her in a Manhattan department store. (AP Photo/Matt Rourke, File)\\nDonald Trump is on the hook for $88.3 million in defamation damages. What happens next?\\nThe U.S. Supreme Court is photographed on Wednesday, Jan. 17, 2024, in Washington. (AP Photo/Mariam Zuhaib)\\nSupreme Court is urged to rule Trump is ineligible to be president again because of the Jan. 6 riot\\nFILE - Fulton County District Attorney Fani Willis speaks during an Associated Press interview on Tuesday, Dec. 12, 2023, in Atlanta. The Georgia state Senate voted on Friday, Jan. 26, 2024, to create a special committee to investigate Willis, with Republicans claiming she has personally benefitted from improperly conveying public money to special prosecutor Nathan Wade. (AP Photo/Brynn Anderson, File)\\nGeorgia Senate passes a panel with subpoena power to investigate District Attorney Fani Willis\\nIf approved, the measure would have further solidified Trump’s control of the party and its operation at a time when former United Nations Ambassador Nikki Haley is still competing against Trump for the GOP nomination.\\n\\nRNC Chair Ronna McDaniel had earlier signaled her approval for the resolution. On Tuesday, after Haley finished second to Trump in New Hampshire, McDaniel said that while she felt the former ambassador had “run a great campaign,” Republicans “need to unite around our eventual nominee, which is going to be Donald Trump.”\\n\\nThe resolution had been expected to be discussed at the RNC’s winter meeting in Las Vegas next week, even though only two states have voted and the former president had nowhere near the requisite number of delegates to secure the nomination.\\n\\nHaley’s camp said Thursday that it wasn’t up to the RNC to decide who the GOP nominee would be.\\n\\n“Who cares what the RNC says? We’ll let millions of Republican voters across the country decide who should be our party’s nominee, not a bunch of Washington insiders,” said campaign spokesperson Olivia Perez-Cubas.\\n\\nThe AP has a policy to not refer to any candidate as the “presumptive nominee” until he or she has captured the number of delegates needed to win a majority vote at the national party conventions this summer. The earliest that could happen is March.\\n\\nBut there were no party rules prohibiting the RNC from making such a move. If it had been adopted, it could have given the Republican Party a jump-start on planning a general election matchup with Democratic President Joe Biden, who has begun framing his reelection campaign as a 2020 rematch against Trump.\\n\\nRepublican presidential candidate former UN Ambassador Nikki Haley speaks during a campaign event at The North Charleston Coliseum, Wednesday, Jan. 24, 2024, in North Charleston, S.C. (AP Photo/Sean Rayford)\\nRepublican presidential candidate former UN Ambassador Nikki Haley speaks during a campaign event at The North Charleston Coliseum, Wednesday, Jan. 24, 2024, in North Charleston, S.C. (AP Photo/Sean Rayford)\\n\\nThere was also precedent for the committee to declare a candidate the presumptive nominee before winning the 1,215 requisite delegates to clinch the nomination. Then-RNC Chair Reince Priebus did so with Trump in May 2016.\\n\\nDespite losing both the Iowa and New Hampshire contests to Trump, Haley has argued that her performance — outlasting all the other Trump rivals — shows the strength of her candidacy.\\n\\nTrump currently has 32 delegates to Haley’s 17. There is one delegate left to be assigned after the New Hampshire contest.\\n\\nDuring a rally Wednesday night in her home state of South Carolina, Haley — the former governor — noted that her campaign had brought in more than $1 million since her second-place finish in New Hampshire. Trump followed up with a remark that appeared aimed at intimidating her donors.\\n\\n“Anybody that makes a ‘Contribution’ to Birdbrain, from this moment forth, will be permanently barred from the MAGA camp,” Trump wrote, using the nickname he has crafted for Haley and the abbreviation for his “Make America Great Again” slogan. “We don’t want them, and will not accept them, because we Put America First, and ALWAYS WILL!”\\n\\nHaley’s campaign said Thursday that it raised an additional $1.2 million “after Trump’s unhinged pledge to ‘permanently bar’ any individual who contributed to Haley’s campaign.”\\n\\n“Donald Trump’s threats highlight the stark choice in this election: personal vendettas or real conservative leadership,” said Haley spokesperson AnnMarie Graham-Barnes. “Trump’s scheme blew up in his face. The contributions to the Haley campaign are pouring in — proof that people are sick of the drama and are rallying behind Nikki’s vision for a strong and proud America.”\\n\\nTrump’s dismissal of any Haley donors had no effect on T.J. Petrizzo, a former top Capitol Hill staffer and now lobbyist who supports Haley.\\n\\n“That’s something out of a ‘Godfather’ movie. Never betray the family? Come on,” he added. “You’ve got to play this through.”\\n\\nPetrizzo said he understands that some Republicans may be ready to pivot to a head-to-head contest between Trump and Biden, but he notes that there is a lot of time left before a general election.\\n\\n“I’ve heard a lot of elected officials in the Republican Party, including the RNC chair, say, ‘We need to rally around a candidate.’ That this is going to be our candidate. ‘It was chosen by Iowa and New Hampshire, so we must go ahead and rally around Trump,’” Petrizzo said. “Well, there’s 285 days until the election. There’s plenty of time on the clock.”\"]\n"
     ]
    }
   ],
   "source": [
    "your_texts = your_texts[:2] + your_texts[3:]\n",
    "print(your_texts)  # Output: [10, 20, 40]"
   ]
  },
  {
   "cell_type": "code",
   "execution_count": 50,
   "id": "76c459af",
   "metadata": {},
   "outputs": [],
   "source": [
    "# Encode texts and create Faiss index\n",
    "text_vectors = encode_texts(your_texts, model, tokenizer)\n",
    "faiss_index = create_faiss_index(text_vectors)\n",
    "faiss.write_index(faiss_index, \"my_faiss_index\")"
   ]
  },
  {
   "cell_type": "code",
   "execution_count": 51,
   "id": "daeccd04",
   "metadata": {},
   "outputs": [],
   "source": [
    "loaded_faiss_index = faiss.read_index(\"my_faiss_index\")\n",
    "query_text = \"what's happening with trump\""
   ]
  },
  {
   "cell_type": "code",
   "execution_count": 52,
   "id": "3148e258",
   "metadata": {},
   "outputs": [
    {
     "name": "stdout",
     "output_type": "stream",
     "text": [
      "Nearest neighbors:\n",
      "Rank 1: Index 0, Distance: 52.65081787109375\n",
      "Rank 2: Index 2, Distance: 54.03995132446289\n",
      "Rank 3: Index 1, Distance: 56.208438873291016\n"
     ]
    }
   ],
   "source": [
    "# Replace 'your_query_text' with the actual query text\n",
    "query_text = \"what's happening with trump\"\n",
    "\n",
    "# Encode the query text using the same model and tokenizer\n",
    "query_vector = encode_texts([query_text], model, tokenizer)\n",
    "\n",
    "# Perform a similarity search\n",
    "k = 3  # Number of nearest neighbors to retrieve\n",
    "distances, indices = loaded_faiss_index.search(query_vector, k)\n",
    "\n",
    "# Print the results\n",
    "print(\"Nearest neighbors:\")\n",
    "for i, index in enumerate(indices[0]):\n",
    "    print(f\"Rank {i+1}: Index {index}, Distance: {distances[0][i]}\")"
   ]
  },
  {
   "cell_type": "code",
   "execution_count": 53,
   "id": "497b5158",
   "metadata": {},
   "outputs": [],
   "source": [
    "final_news_array = []\n",
    "for i in range(k):\n",
    "    final_news_array.append(your_texts[indices[0][i]])"
   ]
  },
  {
   "cell_type": "code",
   "execution_count": 54,
   "id": "b35f5bf8",
   "metadata": {},
   "outputs": [],
   "source": [
    "np.save(\"my_array.npy\", final_news_array)"
   ]
  },
  {
   "cell_type": "code",
   "execution_count": null,
   "id": "105c40fd",
   "metadata": {},
   "outputs": [],
   "source": []
  }
 ],
 "metadata": {
  "kernelspec": {
   "display_name": "Python 3 (ipykernel)",
   "language": "python",
   "name": "python3"
  },
  "language_info": {
   "codemirror_mode": {
    "name": "ipython",
    "version": 3
   },
   "file_extension": ".py",
   "mimetype": "text/x-python",
   "name": "python",
   "nbconvert_exporter": "python",
   "pygments_lexer": "ipython3",
   "version": "3.11.4"
  }
 },
 "nbformat": 4,
 "nbformat_minor": 5
}
